{
  "nbformat": 4,
  "nbformat_minor": 0,
  "metadata": {
    "colab": {
      "provenance": [],
      "authorship_tag": "ABX9TyPTPKaflWnG0kBgkZUlUNsy",
      "include_colab_link": true
    },
    "kernelspec": {
      "name": "python3",
      "display_name": "Python 3"
    },
    "language_info": {
      "name": "python"
    }
  },
  "cells": [
    {
      "cell_type": "markdown",
      "metadata": {
        "id": "view-in-github",
        "colab_type": "text"
      },
      "source": [
        "<a href=\"https://colab.research.google.com/github/jasmis1229/task3-1/blob/main/task3_2.ipynb\" target=\"_parent\"><img src=\"https://colab.research.google.com/assets/colab-badge.svg\" alt=\"Open In Colab\"/></a>"
      ]
    },
    {
      "cell_type": "code",
      "execution_count": null,
      "metadata": {
        "id": "ZB3mcQP74FXf"
      },
      "outputs": [],
      "source": [
        "def build_weighted_matrix(tokenized_corpus, word_to_id, window_size=2, method=\"inverse\"):\n",
        "    vocab_size = len(word_to_id)\n",
        "    cooccur = defaultdict(float)\n",
        "\n",
        "    for sentence in tokenized_corpus:\n",
        "        for i, center in enumerate(sentence):\n",
        "            if center not in word_to_id:\n",
        "                continue\n",
        "            center_id = word_to_id[center]\n",
        "            for j in range(max(0, i - window_size), min(len(sentence), i + window_size + 1)):\n",
        "                if i == j or sentence[j] not in word_to_id:\n",
        "                    continue\n",
        "                context_id = word_to_id[sentence[j]]\n",
        "                distance = abs(j - i)\n",
        "\n",
        "                if method == \"inverse\":\n",
        "                    weight = 1.0 / distance\n",
        "                elif method == \"linear\":\n",
        "                    weight = max(0, 1 - distance / window_size)\n",
        "                elif method == \"exponential\":\n",
        "                    weight = np.exp(-distance)\n",
        "                else:\n",
        "                    weight = 1.0\n",
        "\n",
        "                cooccur[(center_id, context_id)] += weight\n",
        "\n",
        "    row, col, data = zip(*[(i, j, v) for (i, j), v in cooccur.items()])\n",
        "    return sparse.csr_matrix((data, (row, col)), shape=(vocab_size, vocab_size))\n"
      ]
    }
  ]
}