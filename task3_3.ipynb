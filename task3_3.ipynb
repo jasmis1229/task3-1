{
  "nbformat": 4,
  "nbformat_minor": 0,
  "metadata": {
    "colab": {
      "provenance": [],
      "authorship_tag": "ABX9TyMrUpq2AvUFt7H0HLdS11p9",
      "include_colab_link": true
    },
    "kernelspec": {
      "name": "python3",
      "display_name": "Python 3"
    },
    "language_info": {
      "name": "python"
    }
  },
  "cells": [
    {
      "cell_type": "markdown",
      "metadata": {
        "id": "view-in-github",
        "colab_type": "text"
      },
      "source": [
        "<a href=\"https://colab.research.google.com/github/jasmis1229/task3-1/blob/main/task3_3.ipynb\" target=\"_parent\"><img src=\"https://colab.research.google.com/assets/colab-badge.svg\" alt=\"Open In Colab\"/></a>"
      ]
    },
    {
      "cell_type": "code",
      "execution_count": null,
      "metadata": {
        "id": "OAjEQXeN-SJD"
      },
      "outputs": [],
      "source": [
        "tokenized_corpus_sports = [\n",
        "    [\"축구\", \"경기\", \"선수\", \"패스\", \"골\", \"슛\"],\n",
        "    [\"야구\", \"타자\", \"홈런\", \"포수\", \"투수\", \"스트라이크\"],\n",
        "    [\"농구\", \"리바운드\", \"슛\", \"패스\", \"득점\", \"경기\"],\n",
        "    [\"축구\", \"골\", \"선수\", \"슈팅\", \"오프사이드\", \"경기\"],\n",
        "    [\"야구\", \"경기\", \"타자\", \"스트라이크\", \"아웃\", \"투수\"],\n",
        "    [\"농구\", \"슛\", \"슛\", \"3점슛\", \"득점\", \"리바운드\"]\n",
        "]\n",
        "\n",
        "all_words = sorted(set(word for sentence in tokenized_corpus_sports for word in sentence))\n",
        "word_to_id_sports = {w: i for i, w in enumerate(all_words)}\n",
        "id_to_word_sports = {i: w for w, i in word_to_id_sports.items()}"
      ]
    },
    {
      "cell_type": "code",
      "source": [
        "sports_matrix = build_cooccurrence_matrix(tokenized_corpus_sports, word_to_id_sports, window_size=2)"
      ],
      "metadata": {
        "id": "LLssa9vABSxM"
      },
      "execution_count": null,
      "outputs": []
    },
    {
      "cell_type": "code",
      "source": [
        "indices_sports = [word_to_id_sports[w] for w in all_words]\n",
        "\n",
        "plt.figure(figsize=(10, 8))\n",
        "mat = sports_matrix[indices_sports, :][:, indices_sports].todense()\n",
        "sns.heatmap(mat, xticklabels=all_words, yticklabels=all_words, cmap=\"Reds\", annot=True, fmt=\".1f\")\n",
        "plt.title(\"스포츠 주제 동시출현 행렬 (윈도우=2)\", fontsize=16)\n",
        "plt.xticks(rotation=90)\n",
        "plt.yticks(rotation=0)\n",
        "plt.tight_layout()\n",
        "plt.show()"
      ],
      "metadata": {
        "id": "oZLgZtbcBr7y"
      },
      "execution_count": null,
      "outputs": []
    }
  ]
}