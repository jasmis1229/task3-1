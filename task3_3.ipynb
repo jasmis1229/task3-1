{
  "nbformat": 4,
  "nbformat_minor": 0,
  "metadata": {
    "colab": {
      "provenance": [],
      "authorship_tag": "ABX9TyMQisJFhU7Se1+eMSibCKZo",
      "include_colab_link": true
    },
    "kernelspec": {
      "name": "python3",
      "display_name": "Python 3"
    },
    "language_info": {
      "name": "python"
    }
  },
  "cells": [
    {
      "cell_type": "markdown",
      "metadata": {
        "id": "view-in-github",
        "colab_type": "text"
      },
      "source": [
        "<a href=\"https://colab.research.google.com/github/jasmis1229/task3-1/blob/main/task3_3.ipynb\" target=\"_parent\"><img src=\"https://colab.research.google.com/assets/colab-badge.svg\" alt=\"Open In Colab\"/></a>"
      ]
    },
    {
      "cell_type": "code",
      "execution_count": null,
      "metadata": {
        "id": "OAjEQXeN-SJD"
      },
      "outputs": [],
      "source": [
        "tokenized_corpus_sports = [\n",
        "    [\"축구\", \"경기\", \"선수\", \"패스\", \"골\", \"슛\"],\n",
        "    [\"야구\", \"타자\", \"홈런\", \"포수\", \"투수\", \"스트라이크\"],\n",
        "    [\"농구\", \"리바운드\", \"슛\", \"패스\", \"득점\", \"경기\"],\n",
        "    [\"축구\", \"골\", \"선수\", \"슈팅\", \"오프사이드\", \"경기\"],\n",
        "    [\"야구\", \"경기\", \"타자\", \"스트라이크\", \"아웃\", \"투수\"],\n",
        "    [\"농구\", \"슛\", \"슛\", \"3점슛\", \"득점\", \"리바운드\"]\n",
        "]\n",
        "\n",
        "all_words = sorted(set(word for sentence in tokenized_corpus_sports for word in sentence))\n",
        "word_to_id_sports = {w: i for i, w in enumerate(all_words)}\n",
        "id_to_word_sports = {i: w for w, i in word_to_id_sports.items()}"
      ]
    }
  ]
}